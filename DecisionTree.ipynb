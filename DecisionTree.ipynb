{
 "cells": [
  {
   "cell_type": "code",
   "execution_count": 33,
   "metadata": {},
   "outputs": [],
   "source": [
    "import numpy as np\n",
    "import pandas as pd\n",
    "import matplotlib.pyplot as plt\n",
    "from sklearn.tree import DecisionTreeClassifier, export_graphviz\n",
    "from sklearn.model_selection import StratifiedShuffleSplit\n",
    "from sklearn.metrics import classification_report, confusion_matrix\n",
    "from sklearn.ensemble import RandomForestClassifier\n",
    "from sklearn.decomposition import PCA\n",
    "from sklearn.preprocessing import scale\n",
    "from sklearn import tree\n",
    "from collections import defaultdict\n",
    "import random\n",
    "import pydot\n",
    "from io import StringIO\n",
    "import pydotplus"
   ]
  },
  {
   "cell_type": "code",
   "execution_count": 34,
   "metadata": {},
   "outputs": [],
   "source": [
    "df = pd.read_csv('movie_metadata.csv').dropna()\n",
    "df = df.sample(frac=1).reset_index(drop=True)"
   ]
  },
  {
   "cell_type": "code",
   "execution_count": 35,
   "metadata": {},
   "outputs": [
    {
     "data": {
      "text/plain": [
       "Index(['color', 'director_name', 'num_critic_for_reviews', 'duration',\n",
       "       'director_facebook_likes', 'actor_3_facebook_likes', 'actor_2_name',\n",
       "       'actor_1_facebook_likes', 'gross', 'genres', 'actor_1_name',\n",
       "       'movie_title', 'num_voted_users', 'cast_total_facebook_likes',\n",
       "       'actor_3_name', 'facenumber_in_poster', 'plot_keywords',\n",
       "       'movie_imdb_link', 'num_user_for_reviews', 'language', 'country',\n",
       "       'content_rating', 'budget', 'title_year', 'actor_2_facebook_likes',\n",
       "       'imdb_score', 'aspect_ratio', 'movie_facebook_likes'],\n",
       "      dtype='object')"
      ]
     },
     "execution_count": 35,
     "metadata": {},
     "output_type": "execute_result"
    }
   ],
   "source": [
    "df.columns"
   ]
  },
  {
   "cell_type": "code",
   "execution_count": 36,
   "metadata": {},
   "outputs": [
    {
     "name": "stdout",
     "output_type": "stream",
     "text": [
      "3756\n"
     ]
    }
   ],
   "source": [
    "dataset = df[['gross', 'imdb_score', 'movie_title']]\n",
    "print(len(dataset))\n",
    "dataset = dataset.values.tolist()"
   ]
  },
  {
   "cell_type": "code",
   "execution_count": 37,
   "metadata": {},
   "outputs": [],
   "source": [
    "def kMedoids(data, k, prev_cost, count, clusters=None, medoids=None):\n",
    "\n",
    "    cluster_sum = 0\n",
    "    random.seed(0)\n",
    "\n",
    "    while True:\n",
    "\n",
    "        if medoids is None or not medoids:\n",
    "            medoids = random.sample(data, k)\n",
    "        else:\n",
    "            random.shuffle(medoids)\n",
    "            for _ in range(0, int(k/2)):\n",
    "                medoids.pop()\n",
    "            medoids += random.sample(data, int(k/2))\n",
    "\n",
    "        clusters = defaultdict(list)\n",
    "\n",
    "        for item in data:\n",
    "            temp = []\n",
    "            for i in range(0, len(medoids)):\n",
    "                med = medoids[i]\n",
    "                if med is None or not med:\n",
    "                    break\n",
    "                else:\n",
    "                    temp.append(np.linalg.norm(\n",
    "                        med[0]-item[0])+np.linalg.norm(med[1]-item[1]))\n",
    "            min_index = np.argmin(temp)\n",
    "            clusters[min_index].append(item)\n",
    "\n",
    "        for i in range(0, len(medoids)):\n",
    "            inter_cluster = clusters[i]\n",
    "            for j in range(0, len(inter_cluster)):\n",
    "                item_cluster = inter_cluster[j]\n",
    "                medoid = medoids[i]\n",
    "                cluster_sum += (np.linalg.norm(medoid[0]-item_cluster[0]) +\n",
    "                                np.linalg.norm(medoid[1]-item_cluster[1]))\n",
    "\n",
    "        if cluster_sum < prev_cost:\n",
    "            prev_cost = cluster_sum\n",
    "        else:\n",
    "            break\n",
    "\n",
    "        count += 1\n",
    "\n",
    "    return clusters"
   ]
  },
  {
   "cell_type": "code",
   "execution_count": 38,
   "metadata": {},
   "outputs": [
    {
     "name": "stdout",
     "output_type": "stream",
     "text": [
      "1 625\n",
      "2 298\n",
      "3 256\n",
      "4 812\n",
      "5 1765\n"
     ]
    }
   ],
   "source": [
    "clusters = kMedoids(dataset, 5, np.inf, 0)\n",
    "for i in range(0,len(clusters)):\n",
    "    print(str(i+1),len(clusters.get(i)))"
   ]
  },
  {
   "cell_type": "code",
   "execution_count": 39,
   "metadata": {},
   "outputs": [
    {
     "name": "stderr",
     "output_type": "stream",
     "text": [
      "No handles with labels found to put in legend.\n"
     ]
    },
    {
     "data": {
      "image/png": "[encoded data removed]",
      "text/plain": [
       "<Figure size 432x288 with 1 Axes>"
      ]
     },
     "metadata": {},
     "output_type": "display_data"
    }
   ],
   "source": [
    "def plot_graph(clusters):\n",
    "    markers = ['bo', 'go', 'y+', 'c+', 'm+', 'ro']\n",
    "    for i in range(0, len(clusters.keys())):\n",
    "        data = clusters.get(i)\n",
    "        for j in range(0, len(data)):\n",
    "            df = data[j]\n",
    "            plt.plot(df[0], df[1], markers[i])\n",
    "    plt.xlabel('IMDb Scores')\n",
    "    plt.ylabel('Gross')\n",
    "    plt.title('K-medoid clusters')\n",
    "    plt.legend()\n",
    "    plt.show()\n",
    "\n",
    "plot_graph(clusters)"
   ]
  },
  {
   "cell_type": "code",
   "execution_count": 40,
   "metadata": {},
   "outputs": [],
   "source": [
    "columns = ['num_user_for_reviews', 'budget'\n",
    "               , 'num_critic_for_reviews', 'movie_title','movie_facebook_likes','num_voted_users','duration']\n",
    "\n",
    "df = df[columns]"
   ]
  },
  {
   "cell_type": "code",
   "execution_count": 41,
   "metadata": {},
   "outputs": [],
   "source": [
    "def assign_target(row, clusters):\n",
    "\n",
    "    x = row['movie_title']\n",
    "\n",
    "    for i in range(0, len(clusters.keys())):\n",
    "        data = clusters.get(i)\n",
    "        for j in range(0, len(data)):\n",
    "            df = data[j]\n",
    "            if df[2] == x:\n",
    "                row['cluster'] = 'cluster'+str(i)\n",
    "\n",
    "    return row"
   ]
  },
  {
   "cell_type": "code",
   "execution_count": 42,
   "metadata": {},
   "outputs": [
    {
     "name": "stdout",
     "output_type": "stream",
     "text": [
      "      index  num_user_for_reviews       budget  num_critic_for_reviews  \\\n",
      "3751   3751                 297.0  100000000.0                   141.0   \n",
      "3752   3752                 210.0   40000000.0                   292.0   \n",
      "3753   3753                  79.0   16000000.0                    46.0   \n",
      "3754   3754                 463.0   11000000.0                   161.0   \n",
      "3755   3755                 188.0   12000000.0                   132.0   \n",
      "\n",
      "      movie_facebook_likes  num_voted_users  duration   cluster  \n",
      "3751                     0           128285      78.0  cluster4  \n",
      "3752                 19000           126307     123.0  cluster1  \n",
      "3753                     0             3662      85.0  cluster3  \n",
      "3754                  5000            59982     100.0  cluster2  \n",
      "3755                     0            20000     122.0  cluster1  \n"
     ]
    }
   ],
   "source": [
    "df = df.reset_index()\n",
    "df = df.apply(assign_target, args=(clusters,), axis=1)\n",
    "df.drop(labels = ['movie_title'], axis = 1, inplace = True)\n",
    "print(df.tail())"
   ]
  },
  {
   "cell_type": "code",
   "execution_count": 43,
   "metadata": {},
   "outputs": [
    {
     "name": "stdout",
     "output_type": "stream",
     "text": [
      "   index  num_user_for_reviews       budget  num_critic_for_reviews  \\\n",
      "0      0                1732.0   40000000.0                   374.0   \n",
      "1      1                 239.0   35000000.0                    95.0   \n",
      "2      2                  69.0  120000000.0                    71.0   \n",
      "3      3                 316.0   19000000.0                   251.0   \n",
      "4      4                 124.0    2600000.0                   173.0   \n",
      "\n",
      "   movie_facebook_likes  num_voted_users  duration   cluster  \n",
      "0                 13000           656640     147.0  cluster4  \n",
      "1                     0            48621     112.0  cluster0  \n",
      "2                   459            36471      77.0  cluster4  \n",
      "3                  5000           132149     141.0  cluster2  \n",
      "4                     0            40878      66.0  cluster3  \n"
     ]
    }
   ],
   "source": [
    "df_before_split = df.copy()\n",
    "print(df.head())\n",
    "splitSet = StratifiedShuffleSplit(\n",
    "        n_splits=1, test_size=0.2, random_state=0)\n",
    "\n",
    "for train_index, test_index in splitSet.split(df, df['cluster']):\n",
    "    train_set = df.loc[train_index]\n",
    "    test_set = df.loc[test_index]\n",
    "\n",
    "Y_train = train_set.cluster\n",
    "X_train = train_set[train_set.columns.drop('cluster').drop('index')]\n",
    "Y_test = test_set.cluster\n",
    "X_test = test_set[test_set.columns.drop('cluster').drop('index')]\n",
    "\n",
    "decision_tree = DecisionTreeClassifier()\n",
    "decision_tree.fit(X_train, Y_train)\n",
    "\n",
    "predictions = decision_tree.predict(X_test)"
   ]
  },
  {
   "cell_type": "code",
   "execution_count": 44,
   "metadata": {},
   "outputs": [
    {
     "name": "stdout",
     "output_type": "stream",
     "text": [
      "Accuracy 0.5279255319148937\n"
     ]
    }
   ],
   "source": [
    "print('Accuracy', decision_tree.score(X_test, Y_test))"
   ]
  },
  {
   "cell_type": "code",
   "execution_count": 45,
   "metadata": {},
   "outputs": [
    {
     "name": "stdout",
     "output_type": "stream",
     "text": [
      "[[ 37  11   7  15  55]\n",
      " [ 13   7   6  23  11]\n",
      " [ 11  13   7  10  10]\n",
      " [ 19  15  13 100  16]\n",
      " [ 54  14  15  24 246]]\n",
      "\n",
      "\n",
      "             precision    recall  f1-score   support\n",
      "\n",
      "   cluster0       0.28      0.30      0.29       125\n",
      "   cluster1       0.12      0.12      0.12        60\n",
      "   cluster2       0.15      0.14      0.14        51\n",
      "   cluster3       0.58      0.61      0.60       163\n",
      "   cluster4       0.73      0.70      0.71       353\n",
      "\n",
      "avg / total       0.53      0.53      0.53       752\n",
      "\n"
     ]
    }
   ],
   "source": [
    "print(confusion_matrix(Y_test,predictions))\n",
    "print('\\n')\n",
    "print(classification_report(Y_test,predictions))"
   ]
  },
  {
   "cell_type": "code",
   "execution_count": 46,
   "metadata": {},
   "outputs": [
    {
     "data": {
      "text/plain": [
       "RandomForestClassifier(bootstrap=True, class_weight=None, criterion='gini',\n",
       "            max_depth=None, max_features='auto', max_leaf_nodes=None,\n",
       "            min_impurity_decrease=0.0, min_impurity_split=None,\n",
       "            min_samples_leaf=1, min_samples_split=2,\n",
       "            min_weight_fraction_leaf=0.0, n_estimators=2000, n_jobs=1,\n",
       "            oob_score=False, random_state=None, verbose=0,\n",
       "            warm_start=False)"
      ]
     },
     "execution_count": 46,
     "metadata": {},
     "output_type": "execute_result"
    }
   ],
   "source": [
    "rfc = RandomForestClassifier(n_estimators=2000)\n",
    "rfc.fit(X_train, Y_train)"
   ]
  },
  {
   "cell_type": "code",
   "execution_count": 47,
   "metadata": {},
   "outputs": [
    {
     "name": "stdout",
     "output_type": "stream",
     "text": [
      "[[ 22   2   4  21  76]\n",
      " [  7   5   5  26  17]\n",
      " [ 15   5   4  11  16]\n",
      " [ 17   3   2 121  20]\n",
      " [ 31   1   1  14 306]]\n",
      "\n",
      "\n",
      "             precision    recall  f1-score   support\n",
      "\n",
      "   cluster0       0.24      0.18      0.20       125\n",
      "   cluster1       0.31      0.08      0.13        60\n",
      "   cluster2       0.25      0.08      0.12        51\n",
      "   cluster3       0.63      0.74      0.68       163\n",
      "   cluster4       0.70      0.87      0.78       353\n",
      "\n",
      "avg / total       0.55      0.61      0.56       752\n",
      "\n"
     ]
    }
   ],
   "source": [
    "rfc_pred = rfc.predict(X_test)\n",
    "print(confusion_matrix(Y_test,rfc_pred))\n",
    "print('\\n')\n",
    "print(classification_report(Y_test,rfc_pred))"
   ]
  },
  {
   "cell_type": "code",
   "execution_count": null,
   "metadata": {},
   "outputs": [],
   "source": [
    "dot_data = StringIO()\n",
    "export_graphviz(decision_tree, out_file=dot_data,\n",
    "                    filled=True, rounded=True,\n",
    "                    special_characters=True, impurity=False, feature_names=train_set.columns.drop('cluster').drop('index'))\n",
    "graph = pydotplus.graph_from_dot_data(dot_data.getvalue())\n",
    "graph.write_png(\"dtree.png\")"
   ]
  }
 ],
 "metadata": {
  "kernelspec": {
   "display_name": "Python 3",
   "language": "python",
   "name": "python3"
  },
  "language_info": {
   "codemirror_mode": {
    "name": "ipython",
    "version": 3
   },
   "file_extension": ".py",
   "mimetype": "text/x-python",
   "name": "python",
   "nbconvert_exporter": "python",
   "pygments_lexer": "ipython3",
   "version": "3.5.0"
  }
 },
 "nbformat": 4,
 "nbformat_minor": 1
}
