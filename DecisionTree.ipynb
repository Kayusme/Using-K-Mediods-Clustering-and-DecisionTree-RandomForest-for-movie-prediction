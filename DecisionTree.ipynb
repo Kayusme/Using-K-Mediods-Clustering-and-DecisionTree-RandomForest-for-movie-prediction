{
 "cells": [
  {
   "cell_type": "code",
   "execution_count": 255,
   "metadata": {},
   "outputs": [],
   "source": [
    "import numpy as np\n",
    "import pandas as pd\n",
    "import matplotlib.pyplot as plt\n",
    "from sklearn.tree import DecisionTreeClassifier, export_graphviz\n",
    "from sklearn.model_selection import StratifiedShuffleSplit\n",
    "from sklearn.metrics import classification_report, confusion_matrix\n",
    "from sklearn.ensemble import RandomForestClassifier\n",
    "from sklearn.decomposition import PCA\n",
    "from sklearn.preprocessing import scale\n",
    "from sklearn import tree\n",
    "from collections import defaultdict\n",
    "import random\n",
    "import pydot\n",
    "from io import StringIO\n",
    "import pydotplus"
   ]
  },
  {
   "cell_type": "code",
   "execution_count": 256,
   "metadata": {},
   "outputs": [],
   "source": [
    "df = pd.read_csv('movie_metadata.csv')"
   ]
  },
  {
   "cell_type": "code",
   "execution_count": 257,
   "metadata": {},
   "outputs": [
    {
     "data": {
      "text/plain": [
       "Index(['color', 'director_name', 'num_critic_for_reviews', 'duration',\n",
       "       'director_facebook_likes', 'actor_3_facebook_likes', 'actor_2_name',\n",
       "       'actor_1_facebook_likes', 'gross', 'genres', 'actor_1_name',\n",
       "       'movie_title', 'num_voted_users', 'cast_total_facebook_likes',\n",
       "       'actor_3_name', 'facenumber_in_poster', 'plot_keywords',\n",
       "       'movie_imdb_link', 'num_user_for_reviews', 'language', 'country',\n",
       "       'content_rating', 'budget', 'title_year', 'actor_2_facebook_likes',\n",
       "       'imdb_score', 'aspect_ratio', 'movie_facebook_likes'],\n",
       "      dtype='object')"
      ]
     },
     "execution_count": 257,
     "metadata": {},
     "output_type": "execute_result"
    }
   ],
   "source": [
    "df.columns"
   ]
  },
  {
   "cell_type": "code",
   "execution_count": 258,
   "metadata": {},
   "outputs": [
    {
     "name": "stdout",
     "output_type": "stream",
     "text": [
      "color                         19\n",
      "director_name                104\n",
      "num_critic_for_reviews        50\n",
      "duration                      15\n",
      "director_facebook_likes      104\n",
      "actor_3_facebook_likes        23\n",
      "actor_2_name                  13\n",
      "actor_1_facebook_likes         7\n",
      "gross                        884\n",
      "genres                         0\n",
      "actor_1_name                   7\n",
      "movie_title                    0\n",
      "num_voted_users                0\n",
      "cast_total_facebook_likes      0\n",
      "actor_3_name                  23\n",
      "facenumber_in_poster          13\n",
      "plot_keywords                153\n",
      "movie_imdb_link                0\n",
      "num_user_for_reviews          21\n",
      "language                      12\n",
      "country                        5\n",
      "content_rating               303\n",
      "budget                       492\n",
      "title_year                   108\n",
      "actor_2_facebook_likes        13\n",
      "imdb_score                     0\n",
      "aspect_ratio                 329\n",
      "movie_facebook_likes           0\n",
      "dtype: int64\n"
     ]
    }
   ],
   "source": [
    "print(df.isnull().sum()) # columns with missing data"
   ]
  },
  {
   "cell_type": "code",
   "execution_count": 259,
   "metadata": {},
   "outputs": [
    {
     "name": "stdout",
     "output_type": "stream",
     "text": [
      "gross          884\n",
      "imdb_score       0\n",
      "movie_title      0\n",
      "dtype: int64\n",
      "5043\n"
     ]
    }
   ],
   "source": [
    "dataset = df[['gross', 'imdb_score', 'movie_title']]\n",
    "print(dataset.isnull().sum())\n",
    "dataset.dropna()\n",
    "print(len(dataset))\n",
    "dataset = dataset.values.tolist()"
   ]
  },
  {
   "cell_type": "code",
   "execution_count": 260,
   "metadata": {},
   "outputs": [],
   "source": [
    "def kMedoids(data, k, prev_cost, count, clusters=None, medoids=None):\n",
    "\n",
    "    cluster_sum = 0\n",
    "    random.seed(0)\n",
    "\n",
    "    while True:\n",
    "\n",
    "        if medoids is None or not medoids:\n",
    "            medoids = random.sample(data, k)\n",
    "        else:\n",
    "            random.shuffle(medoids)\n",
    "            for _ in range(0, int(k/2)):\n",
    "                medoids.pop()\n",
    "            medoids += random.sample(data, int(k/2))\n",
    "\n",
    "        clusters = defaultdict(list)\n",
    "\n",
    "        for item in data:\n",
    "            temp = []\n",
    "            for i in range(0, len(medoids)):\n",
    "                med = medoids[i]\n",
    "                if med is None or not med:\n",
    "                    break\n",
    "                else:\n",
    "                    temp.append(np.linalg.norm(\n",
    "                        med[0]-item[0])+np.linalg.norm(med[1]-item[1]))\n",
    "            min_index = np.argmin(temp)\n",
    "            clusters[min_index].append(item)\n",
    "\n",
    "        for i in range(0, len(medoids)):\n",
    "            inter_cluster = clusters[i]\n",
    "            for j in range(0, len(inter_cluster)):\n",
    "                item_cluster = inter_cluster[j]\n",
    "                medoid = medoids[i]\n",
    "                cluster_sum += (np.linalg.norm(medoid[0]-item_cluster[0]) +\n",
    "                                np.linalg.norm(medoid[1]-item_cluster[1]))\n",
    "\n",
    "        if cluster_sum < prev_cost:\n",
    "            prev_cost = cluster_sum\n",
    "        else:\n",
    "            break\n",
    "\n",
    "        count += 1\n",
    "\n",
    "    return clusters"
   ]
  },
  {
   "cell_type": "code",
   "execution_count": 261,
   "metadata": {},
   "outputs": [
    {
     "name": "stdout",
     "output_type": "stream",
     "text": [
      "1 1350\n",
      "2 1299\n",
      "3 1209\n",
      "4 1185\n"
     ]
    }
   ],
   "source": [
    "clusters = kMedoids(dataset, 4, np.inf, 0)\n",
    "for i in range(0,len(clusters)):\n",
    "    print(str(i+1),len(clusters.get(i)))"
   ]
  },
  {
   "cell_type": "code",
   "execution_count": 262,
   "metadata": {},
   "outputs": [
    {
     "name": "stderr",
     "output_type": "stream",
     "text": [
      "No handles with labels found to put in legend.\n"
     ]
    },
    {
     "data": {
      "image/png": "[encoded data removed]",
      "text/plain": [
       "<Figure size 432x288 with 1 Axes>"
      ]
     },
     "metadata": {},
     "output_type": "display_data"
    }
   ],
   "source": [
    "def plot_graph(clusters):\n",
    "    markers = ['bo', 'go', 'ro', 'b+', 'r+', 'g+']\n",
    "    for i in range(0, len(clusters.keys())):\n",
    "        data = clusters.get(i)\n",
    "        for j in range(0, len(data)):\n",
    "            df = data[j]\n",
    "            plt.plot(df[0], df[1], markers[i])\n",
    "    plt.xlabel('IMDb Scores')\n",
    "    plt.ylabel('Gross')\n",
    "    plt.title('K-medoid clusters')\n",
    "    plt.legend()\n",
    "    plt.show()\n",
    "\n",
    "plot_graph(clusters)"
   ]
  },
  {
   "cell_type": "code",
   "execution_count": 263,
   "metadata": {},
   "outputs": [
    {
     "name": "stdout",
     "output_type": "stream",
     "text": [
      "num_user_for_reviews      0\n",
      "budget                    0\n",
      "num_critic_for_reviews    0\n",
      "movie_title               0\n",
      "dtype: int64\n",
      "4520\n"
     ]
    }
   ],
   "source": [
    "columns = ['num_user_for_reviews', 'budget'\n",
    "               , 'num_critic_for_reviews', 'movie_title']\n",
    "\n",
    "df = df[columns].dropna()\n",
    "print(df.isnull().sum())\n",
    "print(len(df))"
   ]
  },
  {
   "cell_type": "code",
   "execution_count": 264,
   "metadata": {},
   "outputs": [],
   "source": [
    "def assign_target(row, clusters):\n",
    "\n",
    "    x = row['movie_title']\n",
    "\n",
    "    for i in range(0, len(clusters.keys())):\n",
    "        data = clusters.get(i)\n",
    "        for j in range(0, len(data)):\n",
    "            df = data[j]\n",
    "            if df[2] == x:\n",
    "                row['cluster'] = 'cluster'+str(i)\n",
    "\n",
    "    return row"
   ]
  },
  {
   "cell_type": "code",
   "execution_count": 265,
   "metadata": {},
   "outputs": [
    {
     "name": "stdout",
     "output_type": "stream",
     "text": [
      "      index  num_user_for_reviews  budget  num_critic_for_reviews   cluster\n",
      "4515   5034                  35.0  7000.0                    35.0  cluster1\n",
      "4516   5035                 130.0  7000.0                    56.0  cluster1\n",
      "4517   5037                  14.0  9000.0                    14.0  cluster1\n",
      "4518   5040                   3.0  1400.0                    13.0  cluster0\n",
      "4519   5042                  84.0  1100.0                    43.0  cluster1\n"
     ]
    }
   ],
   "source": [
    "df = df.reset_index()\n",
    "df = df.apply(assign_target, args=(clusters,), axis=1)\n",
    "df.drop(labels = ['movie_title'], axis = 1, inplace = True)\n",
    "print(df.tail())"
   ]
  },
  {
   "cell_type": "code",
   "execution_count": 266,
   "metadata": {},
   "outputs": [
    {
     "name": "stdout",
     "output_type": "stream",
     "text": [
      "   index  num_user_for_reviews       budget  num_critic_for_reviews   cluster\n",
      "0      0                3054.0  237000000.0                   723.0  cluster2\n",
      "1      1                1238.0  300000000.0                   302.0  cluster2\n",
      "2      2                 994.0  245000000.0                   602.0  cluster2\n",
      "3      3                2701.0  250000000.0                   813.0  cluster2\n",
      "4      5                 738.0  263700000.0                   462.0  cluster2\n"
     ]
    }
   ],
   "source": [
    "df_before_split = df.copy()\n",
    "print(df.head())\n",
    "splitSet = StratifiedShuffleSplit(\n",
    "        n_splits=1, test_size=0.2, random_state=0)\n",
    "\n",
    "for train_index, test_index in splitSet.split(df, df['cluster']):\n",
    "    train_set = df.loc[train_index]\n",
    "    test_set = df.loc[test_index]\n",
    "\n",
    "Y_train = train_set.cluster\n",
    "X_train = train_set[train_set.columns.drop('cluster').drop('index')]\n",
    "Y_test = test_set.cluster\n",
    "X_test = test_set[test_set.columns.drop('cluster').drop('index')]\n",
    "\n",
    "decision_tree = DecisionTreeClassifier()\n",
    "decision_tree.fit(X_train, Y_train)\n",
    "\n",
    "predictions = decision_tree.predict(X_test)"
   ]
  },
  {
   "cell_type": "code",
   "execution_count": 267,
   "metadata": {},
   "outputs": [
    {
     "name": "stdout",
     "output_type": "stream",
     "text": [
      "Accuracy 0.4491150442477876\n"
     ]
    }
   ],
   "source": [
    "print('Accuracy', decision_tree.score(X_test, Y_test))"
   ]
  },
  {
   "cell_type": "code",
   "execution_count": 268,
   "metadata": {},
   "outputs": [
    {
     "name": "stdout",
     "output_type": "stream",
     "text": [
      "[[ 82  77  24  31]\n",
      " [ 66  99  18  38]\n",
      " [ 29  20 134  56]\n",
      " [ 34  39  66  91]]\n",
      "\n",
      "\n",
      "             precision    recall  f1-score   support\n",
      "\n",
      "   cluster0       0.39      0.38      0.39       214\n",
      "   cluster1       0.42      0.45      0.43       221\n",
      "   cluster2       0.55      0.56      0.56       239\n",
      "   cluster3       0.42      0.40      0.41       230\n",
      "\n",
      "avg / total       0.45      0.45      0.45       904\n",
      "\n"
     ]
    }
   ],
   "source": [
    "print(confusion_matrix(Y_test,predictions))\n",
    "print('\\n')\n",
    "print(classification_report(Y_test,predictions))"
   ]
  },
  {
   "cell_type": "code",
   "execution_count": 269,
   "metadata": {},
   "outputs": [
    {
     "data": {
      "text/plain": [
       "RandomForestClassifier(bootstrap=True, class_weight=None, criterion='gini',\n",
       "            max_depth=None, max_features='auto', max_leaf_nodes=None,\n",
       "            min_impurity_decrease=0.0, min_impurity_split=None,\n",
       "            min_samples_leaf=1, min_samples_split=2,\n",
       "            min_weight_fraction_leaf=0.0, n_estimators=2000, n_jobs=1,\n",
       "            oob_score=False, random_state=None, verbose=0,\n",
       "            warm_start=False)"
      ]
     },
     "execution_count": 269,
     "metadata": {},
     "output_type": "execute_result"
    }
   ],
   "source": [
    "rfc = RandomForestClassifier(n_estimators=2000)\n",
    "rfc.fit(X_train, Y_train)"
   ]
  },
  {
   "cell_type": "code",
   "execution_count": 270,
   "metadata": {},
   "outputs": [
    {
     "name": "stdout",
     "output_type": "stream",
     "text": [
      "[[ 82  80  15  37]\n",
      " [ 57 109  11  44]\n",
      " [ 13  12 159  55]\n",
      " [ 28  46  56 100]]\n",
      "\n",
      "\n",
      "             precision    recall  f1-score   support\n",
      "\n",
      "   cluster0       0.46      0.38      0.42       214\n",
      "   cluster1       0.44      0.49      0.47       221\n",
      "   cluster2       0.66      0.67      0.66       239\n",
      "   cluster3       0.42      0.43      0.43       230\n",
      "\n",
      "avg / total       0.50      0.50      0.50       904\n",
      "\n"
     ]
    }
   ],
   "source": [
    "rfc_pred = rfc.predict(X_test)\n",
    "print(confusion_matrix(Y_test,rfc_pred))\n",
    "print('\\n')\n",
    "print(classification_report(Y_test,rfc_pred))"
   ]
  },
  {
   "cell_type": "code",
   "execution_count": 271,
   "metadata": {},
   "outputs": [
    {
     "name": "stdout",
     "output_type": "stream",
     "text": [
      "dot: graph is too large for cairo-renderer bitmaps. Scaling by 0.322174 to fit\r\n",
      "\n"
     ]
    },
    {
     "data": {
      "text/plain": [
       "True"
      ]
     },
     "execution_count": 271,
     "metadata": {},
     "output_type": "execute_result"
    }
   ],
   "source": [
    "dot_data = StringIO()\n",
    "export_graphviz(decision_tree, out_file=dot_data,\n",
    "                    filled=True, rounded=True,\n",
    "                    special_characters=True, impurity=False, feature_names=train_set.columns.drop('cluster').drop('index'))\n",
    "graph = pydotplus.graph_from_dot_data(dot_data.getvalue())\n",
    "graph.write_png(\"dtree.png\")"
   ]
  }
 ],
 "metadata": {
  "kernelspec": {
   "display_name": "Python 3",
   "language": "python",
   "name": "python3"
  },
  "language_info": {
   "codemirror_mode": {
    "name": "ipython",
    "version": 3
   },
   "file_extension": ".py",
   "mimetype": "text/x-python",
   "name": "python",
   "nbconvert_exporter": "python",
   "pygments_lexer": "ipython3",
   "version": "3.5.0"
  }
 },
 "nbformat": 4,
 "nbformat_minor": 1
}
