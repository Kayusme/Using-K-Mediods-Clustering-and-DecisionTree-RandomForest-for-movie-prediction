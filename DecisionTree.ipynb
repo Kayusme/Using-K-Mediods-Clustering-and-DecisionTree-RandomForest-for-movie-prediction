{
 "cells": [
  {
   "cell_type": "code",
   "execution_count": 412,
   "metadata": {},
   "outputs": [],
   "source": [
    "import numpy as np\n",
    "import pandas as pd\n",
    "import matplotlib.pyplot as plt\n",
    "from sklearn.tree import DecisionTreeClassifier, export_graphviz\n",
    "from sklearn.model_selection import StratifiedShuffleSplit\n",
    "from sklearn.metrics import classification_report, confusion_matrix\n",
    "from sklearn.ensemble import RandomForestClassifier\n",
    "from sklearn.decomposition import PCA\n",
    "from sklearn.preprocessing import scale\n",
    "from sklearn import tree\n",
    "from collections import defaultdict\n",
    "import random\n",
    "import pydot\n",
    "from io import StringIO\n",
    "import pydotplus"
   ]
  },
  {
   "cell_type": "code",
   "execution_count": 413,
   "metadata": {},
   "outputs": [],
   "source": [
    "df = pd.read_csv('movie_metadata.csv').dropna()"
   ]
  },
  {
   "cell_type": "code",
   "execution_count": 414,
   "metadata": {},
   "outputs": [
    {
     "data": {
      "text/plain": [
       "Index(['color', 'director_name', 'num_critic_for_reviews', 'duration',\n",
       "       'director_facebook_likes', 'actor_3_facebook_likes', 'actor_2_name',\n",
       "       'actor_1_facebook_likes', 'gross', 'genres', 'actor_1_name',\n",
       "       'movie_title', 'num_voted_users', 'cast_total_facebook_likes',\n",
       "       'actor_3_name', 'facenumber_in_poster', 'plot_keywords',\n",
       "       'movie_imdb_link', 'num_user_for_reviews', 'language', 'country',\n",
       "       'content_rating', 'budget', 'title_year', 'actor_2_facebook_likes',\n",
       "       'imdb_score', 'aspect_ratio', 'movie_facebook_likes'],\n",
       "      dtype='object')"
      ]
     },
     "execution_count": 414,
     "metadata": {},
     "output_type": "execute_result"
    }
   ],
   "source": [
    "df.columns"
   ]
  },
  {
   "cell_type": "code",
   "execution_count": 415,
   "metadata": {},
   "outputs": [
    {
     "name": "stdout",
     "output_type": "stream",
     "text": [
      "3756\n"
     ]
    }
   ],
   "source": [
    "dataset = df[['gross', 'imdb_score', 'movie_title']]\n",
    "print(len(dataset))\n",
    "dataset = dataset.values.tolist()"
   ]
  },
  {
   "cell_type": "code",
   "execution_count": 416,
   "metadata": {},
   "outputs": [],
   "source": [
    "def kMedoids(data, k, prev_cost, count, clusters=None, medoids=None):\n",
    "\n",
    "    cluster_sum = 0\n",
    "    random.seed(0)\n",
    "\n",
    "    while True:\n",
    "\n",
    "        if medoids is None or not medoids:\n",
    "            medoids = random.sample(data, k)\n",
    "        else:\n",
    "            random.shuffle(medoids)\n",
    "            for _ in range(0, int(k/2)):\n",
    "                medoids.pop()\n",
    "            medoids += random.sample(data, int(k/2))\n",
    "\n",
    "        clusters = defaultdict(list)\n",
    "\n",
    "        for item in data:\n",
    "            temp = []\n",
    "            for i in range(0, len(medoids)):\n",
    "                med = medoids[i]\n",
    "                if med is None or not med:\n",
    "                    break\n",
    "                else:\n",
    "                    temp.append(np.linalg.norm(\n",
    "                        med[0]-item[0])+np.linalg.norm(med[1]-item[1]))\n",
    "            min_index = np.argmin(temp)\n",
    "            clusters[min_index].append(item)\n",
    "\n",
    "        for i in range(0, len(medoids)):\n",
    "            inter_cluster = clusters[i]\n",
    "            for j in range(0, len(inter_cluster)):\n",
    "                item_cluster = inter_cluster[j]\n",
    "                medoid = medoids[i]\n",
    "                cluster_sum += (np.linalg.norm(medoid[0]-item_cluster[0]) +\n",
    "                                np.linalg.norm(medoid[1]-item_cluster[1]))\n",
    "\n",
    "        if cluster_sum < prev_cost:\n",
    "            prev_cost = cluster_sum\n",
    "        else:\n",
    "            break\n",
    "\n",
    "        count += 1\n",
    "\n",
    "    return clusters"
   ]
  },
  {
   "cell_type": "code",
   "execution_count": 417,
   "metadata": {},
   "outputs": [
    {
     "name": "stdout",
     "output_type": "stream",
     "text": [
      "1 198\n",
      "2 250\n",
      "3 807\n",
      "4 2013\n",
      "5 488\n"
     ]
    }
   ],
   "source": [
    "clusters = kMedoids(dataset, 5, np.inf, 0)\n",
    "for i in range(0,len(clusters)):\n",
    "    print(str(i+1),len(clusters.get(i)))"
   ]
  },
  {
   "cell_type": "code",
   "execution_count": 418,
   "metadata": {},
   "outputs": [
    {
     "name": "stderr",
     "output_type": "stream",
     "text": [
      "No handles with labels found to put in legend.\n"
     ]
    },
    {
     "data": {
      "image/png": "[encoded data removed]",
      "text/plain": [
       "<Figure size 432x288 with 1 Axes>"
      ]
     },
     "metadata": {},
     "output_type": "display_data"
    }
   ],
   "source": [
    "def plot_graph(clusters):\n",
    "    markers = ['bo', 'go', 'ro', 'b+', 'r+', 'g+']\n",
    "    for i in range(0, len(clusters.keys())):\n",
    "        data = clusters.get(i)\n",
    "        for j in range(0, len(data)):\n",
    "            df = data[j]\n",
    "            plt.plot(df[0], df[1], markers[i])\n",
    "    plt.xlabel('IMDb Scores')\n",
    "    plt.ylabel('Gross')\n",
    "    plt.title('K-medoid clusters')\n",
    "    plt.legend()\n",
    "    plt.show()\n",
    "\n",
    "plot_graph(clusters)"
   ]
  },
  {
   "cell_type": "code",
   "execution_count": 419,
   "metadata": {},
   "outputs": [],
   "source": [
    "columns = ['num_user_for_reviews', 'budget'\n",
    "               , 'num_critic_for_reviews', 'movie_title','movie_facebook_likes','num_voted_users','duration']\n",
    "\n",
    "df = df[columns]"
   ]
  },
  {
   "cell_type": "code",
   "execution_count": 420,
   "metadata": {},
   "outputs": [],
   "source": [
    "def assign_target(row, clusters):\n",
    "\n",
    "    x = row['movie_title']\n",
    "\n",
    "    for i in range(0, len(clusters.keys())):\n",
    "        data = clusters.get(i)\n",
    "        for j in range(0, len(data)):\n",
    "            df = data[j]\n",
    "            if df[2] == x:\n",
    "                row['cluster'] = 'cluster'+str(i)\n",
    "\n",
    "    return row"
   ]
  },
  {
   "cell_type": "code",
   "execution_count": 421,
   "metadata": {},
   "outputs": [
    {
     "name": "stdout",
     "output_type": "stream",
     "text": [
      "      index  num_user_for_reviews   budget  num_critic_for_reviews  \\\n",
      "3751   5026                  39.0   4500.0                    81.0   \n",
      "3752   5027                  26.0  10000.0                    64.0   \n",
      "3753   5033                 371.0   7000.0                   143.0   \n",
      "3754   5035                 130.0   7000.0                    56.0   \n",
      "3755   5042                  84.0   1100.0                    43.0   \n",
      "\n",
      "      movie_facebook_likes  num_voted_users  duration   cluster  \n",
      "3751                   171             3924     110.0  cluster2  \n",
      "3752                   697             4555      90.0  cluster2  \n",
      "3753                 19000            72639      77.0  cluster2  \n",
      "3754                     0            52055      81.0  cluster2  \n",
      "3755                   456             4285      90.0  cluster2  \n"
     ]
    }
   ],
   "source": [
    "df = df.reset_index()\n",
    "df = df.apply(assign_target, args=(clusters,), axis=1)\n",
    "df.drop(labels = ['movie_title'], axis = 1, inplace = True)\n",
    "print(df.tail())"
   ]
  },
  {
   "cell_type": "code",
   "execution_count": 422,
   "metadata": {},
   "outputs": [
    {
     "name": "stdout",
     "output_type": "stream",
     "text": [
      "   index  num_user_for_reviews       budget  num_critic_for_reviews  \\\n",
      "0      0                3054.0  237000000.0                   723.0   \n",
      "1      1                1238.0  300000000.0                   302.0   \n",
      "2      2                 994.0  245000000.0                   602.0   \n",
      "3      3                2701.0  250000000.0                   813.0   \n",
      "4      5                 738.0  263700000.0                   462.0   \n",
      "\n",
      "   movie_facebook_likes  num_voted_users  duration   cluster  \n",
      "0                 33000           886204     178.0  cluster3  \n",
      "1                     0           471220     169.0  cluster3  \n",
      "2                 85000           275868     148.0  cluster3  \n",
      "3                164000          1144337     164.0  cluster3  \n",
      "4                 24000           212204     132.0  cluster3  \n"
     ]
    }
   ],
   "source": [
    "df_before_split = df.copy()\n",
    "print(df.head())\n",
    "splitSet = StratifiedShuffleSplit(\n",
    "        n_splits=1, test_size=0.2, random_state=0)\n",
    "\n",
    "for train_index, test_index in splitSet.split(df, df['cluster']):\n",
    "    train_set = df.loc[train_index]\n",
    "    test_set = df.loc[test_index]\n",
    "\n",
    "Y_train = train_set.cluster\n",
    "X_train = train_set[train_set.columns.drop('cluster').drop('index')]\n",
    "Y_test = test_set.cluster\n",
    "X_test = test_set[test_set.columns.drop('cluster').drop('index')]\n",
    "\n",
    "decision_tree = DecisionTreeClassifier()\n",
    "decision_tree.fit(X_train, Y_train)\n",
    "\n",
    "predictions = decision_tree.predict(X_test)"
   ]
  },
  {
   "cell_type": "code",
   "execution_count": 423,
   "metadata": {},
   "outputs": [
    {
     "name": "stdout",
     "output_type": "stream",
     "text": [
      "Accuracy 0.5678191489361702\n"
     ]
    }
   ],
   "source": [
    "print('Accuracy', decision_tree.score(X_test, Y_test))"
   ]
  },
  {
   "cell_type": "code",
   "execution_count": 424,
   "metadata": {},
   "outputs": [
    {
     "name": "stdout",
     "output_type": "stream",
     "text": [
      "[[  6   3   6  18   7]\n",
      " [  2   4  12  16  16]\n",
      " [  9  10  96  20  26]\n",
      " [ 22  29  25 295  32]\n",
      " [ 12   7  23  30  26]]\n",
      "\n",
      "\n",
      "             precision    recall  f1-score   support\n",
      "\n",
      "   cluster0       0.12      0.15      0.13        40\n",
      "   cluster1       0.08      0.08      0.08        50\n",
      "   cluster2       0.59      0.60      0.59       161\n",
      "   cluster3       0.78      0.73      0.75       403\n",
      "   cluster4       0.24      0.27      0.25        98\n",
      "\n",
      "avg / total       0.59      0.57      0.58       752\n",
      "\n"
     ]
    }
   ],
   "source": [
    "print(confusion_matrix(Y_test,predictions))\n",
    "print('\\n')\n",
    "print(classification_report(Y_test,predictions))"
   ]
  },
  {
   "cell_type": "code",
   "execution_count": 425,
   "metadata": {},
   "outputs": [
    {
     "data": {
      "text/plain": [
       "RandomForestClassifier(bootstrap=True, class_weight=None, criterion='gini',\n",
       "            max_depth=None, max_features='auto', max_leaf_nodes=None,\n",
       "            min_impurity_decrease=0.0, min_impurity_split=None,\n",
       "            min_samples_leaf=1, min_samples_split=2,\n",
       "            min_weight_fraction_leaf=0.0, n_estimators=2000, n_jobs=1,\n",
       "            oob_score=False, random_state=None, verbose=0,\n",
       "            warm_start=False)"
      ]
     },
     "execution_count": 425,
     "metadata": {},
     "output_type": "execute_result"
    }
   ],
   "source": [
    "rfc = RandomForestClassifier(n_estimators=2000)\n",
    "rfc.fit(X_train, Y_train)"
   ]
  },
  {
   "cell_type": "code",
   "execution_count": 426,
   "metadata": {},
   "outputs": [
    {
     "name": "stdout",
     "output_type": "stream",
     "text": [
      "[[  2   1   7  20  10]\n",
      " [  0   1  16  24   9]\n",
      " [  0   0 120  24  17]\n",
      " [  1   7  16 365  14]\n",
      " [  0   2  29  44  23]]\n",
      "\n",
      "\n",
      "             precision    recall  f1-score   support\n",
      "\n",
      "   cluster0       0.67      0.05      0.09        40\n",
      "   cluster1       0.09      0.02      0.03        50\n",
      "   cluster2       0.64      0.75      0.69       161\n",
      "   cluster3       0.77      0.91      0.83       403\n",
      "   cluster4       0.32      0.23      0.27        98\n",
      "\n",
      "avg / total       0.63      0.68      0.63       752\n",
      "\n"
     ]
    }
   ],
   "source": [
    "rfc_pred = rfc.predict(X_test)\n",
    "print(confusion_matrix(Y_test,rfc_pred))\n",
    "print('\\n')\n",
    "print(classification_report(Y_test,rfc_pred))"
   ]
  },
  {
   "cell_type": "code",
   "execution_count": 427,
   "metadata": {},
   "outputs": [
    {
     "name": "stdout",
     "output_type": "stream",
     "text": [
      "dot: graph is too large for cairo-renderer bitmaps. Scaling by 0.497843 to fit\r\n",
      "\n"
     ]
    },
    {
     "data": {
      "text/plain": [
       "True"
      ]
     },
     "execution_count": 427,
     "metadata": {},
     "output_type": "execute_result"
    }
   ],
   "source": [
    "dot_data = StringIO()\n",
    "export_graphviz(decision_tree, out_file=dot_data,\n",
    "                    filled=True, rounded=True,\n",
    "                    special_characters=True, impurity=False, feature_names=train_set.columns.drop('cluster').drop('index'))\n",
    "graph = pydotplus.graph_from_dot_data(dot_data.getvalue())\n",
    "graph.write_png(\"dtree.png\")"
   ]
  }
 ],
 "metadata": {
  "kernelspec": {
   "display_name": "Python 3",
   "language": "python",
   "name": "python3"
  },
  "language_info": {
   "codemirror_mode": {
    "name": "ipython",
    "version": 3
   },
   "file_extension": ".py",
   "mimetype": "text/x-python",
   "name": "python",
   "nbconvert_exporter": "python",
   "pygments_lexer": "ipython3",
   "version": "3.5.0"
  }
 },
 "nbformat": 4,
 "nbformat_minor": 1
}
