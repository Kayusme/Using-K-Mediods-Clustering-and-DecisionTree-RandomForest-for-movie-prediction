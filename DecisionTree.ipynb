{
 "cells": [
  {
   "cell_type": "code",
   "execution_count": 92,
   "metadata": {},
   "outputs": [],
   "source": [
    "import numpy as np\n",
    "import pandas as pd\n",
    "import matplotlib.pyplot as plt\n",
    "from sklearn.tree import DecisionTreeClassifier, export_graphviz\n",
    "from sklearn.model_selection import StratifiedShuffleSplit\n",
    "from sklearn.model_selection import train_test_split\n",
    "from collections import defaultdict\n",
    "import random\n",
    "import pydot\n",
    "from io import StringIO\n",
    "import pydotplus\n",
    "import plotly.plotly as py\n",
    "import plotly.graph_objs as go"
   ]
  },
  {
   "cell_type": "code",
   "execution_count": 93,
   "metadata": {},
   "outputs": [],
   "source": [
    "df = pd.read_csv('movie_metadata.csv')"
   ]
  },
  {
   "cell_type": "code",
   "execution_count": 94,
   "metadata": {},
   "outputs": [
    {
     "data": {
      "text/plain": [
       "Index(['color', 'director_name', 'num_critic_for_reviews', 'duration',\n",
       "       'director_facebook_likes', 'actor_3_facebook_likes', 'actor_2_name',\n",
       "       'actor_1_facebook_likes', 'gross', 'genres', 'actor_1_name',\n",
       "       'movie_title', 'num_voted_users', 'cast_total_facebook_likes',\n",
       "       'actor_3_name', 'facenumber_in_poster', 'plot_keywords',\n",
       "       'movie_imdb_link', 'num_user_for_reviews', 'language', 'country',\n",
       "       'content_rating', 'budget', 'title_year', 'actor_2_facebook_likes',\n",
       "       'imdb_score', 'aspect_ratio', 'movie_facebook_likes'],\n",
       "      dtype='object')"
      ]
     },
     "execution_count": 94,
     "metadata": {},
     "output_type": "execute_result"
    }
   ],
   "source": [
    "df.columns"
   ]
  },
  {
   "cell_type": "code",
   "execution_count": 95,
   "metadata": {},
   "outputs": [
    {
     "name": "stdout",
     "output_type": "stream",
     "text": [
      "color                         19\n",
      "director_name                104\n",
      "num_critic_for_reviews        50\n",
      "duration                      15\n",
      "director_facebook_likes      104\n",
      "actor_3_facebook_likes        23\n",
      "actor_2_name                  13\n",
      "actor_1_facebook_likes         7\n",
      "gross                        884\n",
      "genres                         0\n",
      "actor_1_name                   7\n",
      "movie_title                    0\n",
      "num_voted_users                0\n",
      "cast_total_facebook_likes      0\n",
      "actor_3_name                  23\n",
      "facenumber_in_poster          13\n",
      "plot_keywords                153\n",
      "movie_imdb_link                0\n",
      "num_user_for_reviews          21\n",
      "language                      12\n",
      "country                        5\n",
      "content_rating               303\n",
      "budget                       492\n",
      "title_year                   108\n",
      "actor_2_facebook_likes        13\n",
      "imdb_score                     0\n",
      "aspect_ratio                 329\n",
      "movie_facebook_likes           0\n",
      "dtype: int64\n"
     ]
    }
   ],
   "source": [
    "print(df.isnull().sum()) # columns with missing data"
   ]
  },
  {
   "cell_type": "code",
   "execution_count": 96,
   "metadata": {},
   "outputs": [],
   "source": [
    "def get_movie_class(row):\n",
    "    if 8 <= row['imdb_score'] <= 10:\n",
    "        row['Class'] = 'great'\n",
    "    elif 7 <= row['imdb_score'] < 8:\n",
    "        row['Class'] = 'good'\n",
    "    elif 6 <= row['imdb_score'] < 7:\n",
    "        row['Class'] = 'average'\n",
    "    else:\n",
    "        row['Class'] = 'bad'\n",
    "    return row\n"
   ]
  },
  {
   "cell_type": "code",
   "execution_count": 97,
   "metadata": {},
   "outputs": [],
   "source": [
    "def print_metrics(y_test, y_pred, threshold=0.5):\n",
    "    print(\"Precision\", metrics.precision_score(y_test, y_pred > threshold))\n",
    "    print(\"Recall\", metrics.recall_score(y_test, y_pred > threshold))\n",
    "    print(\"F1\", metrics.f1_score(y_test, y_pred > threshold))\n",
    "    print(\"AUC\", metrics.roc_auc_score(y_test, y_pred_lr))"
   ]
  },
  {
   "cell_type": "code",
   "execution_count": 98,
   "metadata": {},
   "outputs": [],
   "source": [
    "def build_decision_tree(df):\n",
    "\n",
    "    df = df.dropna()\n",
    "    df = df.reset_index()\n",
    "    df = df.apply(get_movie_class, axis=1)  # for each row\n",
    "    df_before_split = df.copy()\n",
    "    split = StratifiedShuffleSplit(n_splits=1, test_size=0.2, random_state=0)\n",
    "    for train_index, test_index in split.split(df, df['Class']):\n",
    "        train_set = df.loc[train_index]\n",
    "        test_set = df.loc[test_index]\n",
    "        Y_train = train_set.Class\n",
    "    X_train = train_set[train_set.columns.drop('Class').drop('index')]\n",
    "    Y_test = test_set.Class\n",
    "    X_test = test_set[test_set.columns.drop('Class').drop('index')]\n",
    "    \n",
    "    print(X_train.columns)\n",
    "    decision_tree = DecisionTreeClassifier()\n",
    "    decision_tree.fit(X_train, Y_train)\n",
    "    print('Accuracy', decision_tree.score(X_test, Y_test))\n",
    "    # Draw graph\n",
    "    dot_data = StringIO()\n",
    "    export_graphviz(decision_tree, out_file=dot_data,\n",
    "                    filled=True, rounded=True,\n",
    "                    special_characters=True,impurity=False,\n",
    "                    feature_names=train_set.columns.drop('Class').drop('index'))\n",
    "    graph = pydotplus.graph_from_dot_data(dot_data.getvalue())\n",
    "    graph.write_png(\"dtree.png\")\n",
    "    \n",
    "    #print(feature_names)"
   ]
  },
  {
   "cell_type": "code",
   "execution_count": 99,
   "metadata": {},
   "outputs": [],
   "source": [
    "def load_datas():\n",
    "    df = pd.read_csv('movie_metadata.csv')\n",
    "    df = df[['gross', 'imdb_score']].dropna()\n",
    "    dataset = df.values.tolist()\n",
    "    clusters = kMedoids(dataset, 5, np.inf, 0)\n",
    "\n",
    "    for i in range(0, len(clusters.keys())):\n",
    "        print(\"Cluster \", i, \"= \", len(clusters.get(i)))\n",
    "\n",
    "    build_decision_tree(df)"
   ]
  },
  {
   "cell_type": "code",
   "execution_count": 100,
   "metadata": {},
   "outputs": [],
   "source": [
    "def kMedoids(data, k, prev_cost, count, clusters=None, medoids=None):\n",
    "\n",
    "    cluster_sum = 0\n",
    "\n",
    "    while True:\n",
    "\n",
    "        if medoids is None or not medoids:\n",
    "            medoids = random.sample(data, 5)\n",
    "        else:\n",
    "            random.shuffle(medoids)\n",
    "            medoids.pop()\n",
    "            medoids.pop()\n",
    "            medoids.pop()\n",
    "            medoids += random.sample(data, 3)\n",
    "\n",
    "        clusters = defaultdict(list)\n",
    "\n",
    "        for item in data:\n",
    "            temp = []\n",
    "            for i in range(0, len(medoids)):\n",
    "                med = medoids[i]\n",
    "                if med is None or not med:\n",
    "                    break\n",
    "                else:\n",
    "                    temp.append(np.linalg.norm(\n",
    "                        med[0]-item[0])+np.linalg.norm(med[1]-item[1]))\n",
    "            min_index = np.argmin(temp)\n",
    "            clusters[min_index].append(item)\n",
    "\n",
    "        for i in range(0, len(medoids)):\n",
    "            inter_cluster = clusters[i]\n",
    "            for j in range(0, len(inter_cluster)):\n",
    "                item_cluster = inter_cluster[j]\n",
    "                medoid = medoids[i]\n",
    "                cluster_sum += (np.linalg.norm(medoid[0]-item_cluster[0]) +\n",
    "                                np.linalg.norm(medoid[1]-item_cluster[1]))\n",
    "\n",
    "        if cluster_sum < prev_cost:\n",
    "            prev_cost = cluster_sum\n",
    "        else:\n",
    "            break\n",
    "\n",
    "        count += 1\n",
    "\n",
    "    return clusters"
   ]
  },
  {
   "cell_type": "code",
   "execution_count": 101,
   "metadata": {},
   "outputs": [],
   "source": [
    "def plot_graph(data):\n",
    "    x = [1, 2, 3, 3, 45]\n",
    "    y = [5, 6, 7, 8, 9]\n",
    "    lb = 'cluster0'\n",
    "    colors = np.random.rand(5)\n",
    "    area = (30 * np.random.rand(5))**2  # 0 to 15 point radii\n",
    "    plt.scatter(x, y, s=area, c=colors, alpha=0.5)\n",
    "    # plt.scatter(x, y, label=lb, color='k', s=100)\n",
    "    plt.xlabel('IMDb Scores')\n",
    "    plt.ylabel('Gross')\n",
    "    plt.title('K-medoid clusters')\n",
    "    plt.legend()\n",
    "    plt.show()"
   ]
  },
  {
   "cell_type": "code",
   "execution_count": 102,
   "metadata": {},
   "outputs": [
    {
     "name": "stdout",
     "output_type": "stream",
     "text": [
      "Cluster  0 =  1331\n",
      "Cluster  1 =  599\n",
      "Cluster  2 =  811\n",
      "Cluster  3 =  1054\n",
      "Cluster  4 =  364\n",
      "Index(['gross', 'imdb_score'], dtype='object')\n",
      "Accuracy 1.0\n"
     ]
    }
   ],
   "source": [
    "if __name__ == \"__main__\":\n",
    "    load_datas()\n",
    "    #plot_graph()"
   ]
  },
  {
   "cell_type": "code",
   "execution_count": null,
   "metadata": {},
   "outputs": [],
   "source": []
  }
 ],
 "metadata": {
  "kernelspec": {
   "display_name": "Python 3",
   "language": "python",
   "name": "python3"
  },
  "language_info": {
   "codemirror_mode": {
    "name": "ipython",
    "version": 3
   },
   "file_extension": ".py",
   "mimetype": "text/x-python",
   "name": "python",
   "nbconvert_exporter": "python",
   "pygments_lexer": "ipython3",
   "version": "3.5.0"
  }
 },
 "nbformat": 4,
 "nbformat_minor": 1
}
